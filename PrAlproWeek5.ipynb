{
 "cells": [
  {
   "cell_type": "code",
   "execution_count": 1,
   "metadata": {},
   "outputs": [
    {
     "name": "stdout",
     "output_type": "stream",
     "text": [
      "10 X 15 = 15 + 15 + 15 + 15 + 15 + 15 + 15 + 15 + 15 + 15 = 150\n"
     ]
    }
   ],
   "source": [
    "def perkalian (a, b):\n",
    "    if b == 0:\n",
    "        return 0\n",
    "    elif b == 1:\n",
    "        return a\n",
    "    else:\n",
    "        return a * b\n",
    "\n",
    "def main():\n",
    "    angka1 = int(input('masukan angka pertama = '))\n",
    "    angka2 = int(input('masukan angka kedua ='))\n",
    "\n",
    "    hasil = perkalian(angka1, angka2)\n",
    "\n",
    "    print(f\"{angka1} X {angka2} = \", end=\"\")\n",
    "    for i in range(angka1):\n",
    "        print (angka2, end=\"\")\n",
    "        if i != angka1 -1:\n",
    "            print (\" + \", end=\"\")\n",
    "        else:\n",
    "            print (f\" = {hasil}\")\n",
    "\n",
    "if __name__ == \"__main__\":\n",
    "    main()"
   ]
  },
  {
   "cell_type": "code",
   "execution_count": 2,
   "metadata": {},
   "outputs": [
    {
     "name": "stdout",
     "output_type": "stream",
     "text": [
      "11, 13, 15, 17, 19, 21, 23, 25, 27, 29, 97, 95, 93, 91, 89, 87, 85, 83, "
     ]
    }
   ],
   "source": [
    "def ganjil(bawah, atas):\n",
    "    if bawah < atas:\n",
    "        for i in range(bawah, atas+1):\n",
    "            if i % 2 != 0:\n",
    "                print(i, end=\", \")\n",
    "    else:\n",
    "        for i in range(bawah, atas-1, -1):\n",
    "            if i % 2 != 0:\n",
    "                print(i, end=\", \")\n",
    "\n",
    "ganjil(10, 30)  # Output: 11, 13, 15, 17, 19, 21, 23, 25, 27, 29,\n",
    "ganjil(97, 82)  # Output: 97, 95, 93, 91, 89, 87, 85, 83,   "
   ]
  },
  {
   "cell_type": "code",
   "execution_count": 5,
   "metadata": {},
   "outputs": [
    {
     "name": "stdout",
     "output_type": "stream",
     "text": [
      "Nilai IPS anda semester ini 3.20\n"
     ]
    }
   ],
   "source": [
    "def hitung_ips(jumlah_matkul):\n",
    "    total_sks = jumlah_matkul * 3\n",
    "    total_nilai = 0\n",
    "\n",
    "    for i in range(1, jumlah_matkul + 1):\n",
    "        nilai = input(f\"nilai MK {i}: \").upper()\n",
    "        if nilai == 'A':\n",
    "            total_nilai += 4 * 3\n",
    "        elif nilai == 'B':\n",
    "            total_nilai += 3 * 3\n",
    "        elif nilai == 'C':\n",
    "            total_nilai += 2 * 3\n",
    "        elif nilai == 'D':\n",
    "            total_nilai += 1 * 3\n",
    "        else:\n",
    "            print(\"Nilai tidak valid. Masukkan A, B, C, atau D ! \")\n",
    "\n",
    "    ips = total_nilai / total_sks\n",
    "    return ips\n",
    "\n",
    "def main():\n",
    "    jumlah_matkul = int(input(\"Berapa jumlah mata kuliah? \"))\n",
    "    ips = hitung_ips(jumlah_matkul)\n",
    "    print(f\"Nilai IPS anda semester ini {ips:.2f}\")\n",
    "\n",
    "if __name__ == \"__main__\":\n",
    "    main()"
   ]
  }
 ],
 "metadata": {
  "kernelspec": {
   "display_name": "Python 3",
   "language": "python",
   "name": "python3"
  },
  "language_info": {
   "codemirror_mode": {
    "name": "ipython",
    "version": 3
   },
   "file_extension": ".py",
   "mimetype": "text/x-python",
   "name": "python",
   "nbconvert_exporter": "python",
   "pygments_lexer": "ipython3",
   "version": "3.12.0"
  }
 },
 "nbformat": 4,
 "nbformat_minor": 2
}
